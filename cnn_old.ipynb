{
 "cells": [
  {
   "cell_type": "code",
   "execution_count": 1,
   "id": "e1910c2d-d0f4-45d6-8e16-cd739d7d6fe1",
   "metadata": {},
   "outputs": [],
   "source": [
    "from tensorflow.keras import layers, models\n",
    "import tensorflow as tf\n",
    "from tensorflow.keras.preprocessing.image import ImageDataGenerator\n",
    "import matplotlib.pyplot as plt\n",
    "from tensorflow.keras.layers import Conv2D, MaxPool2D, Dense, Flatten, Dropout, Input\n",
    "import os\n",
    "from sklearn.metrics import confusion_matrix, ConfusionMatrixDisplay\n",
    "import numpy as np\n",
    "import random  # Import random module\n",
    "from tensorflow.keras.preprocessing.image import load_img, img_to_array  # Import missing functions\n",
    "from tensorflow.keras.callbacks import EarlyStopping, ModelCheckpoint, ReduceLROnPlateau\n",
    "from collections import Counter\n",
    "from sklearn.metrics import accuracy_score, classification_report\n",
    "import cv2  # Import OpenCV for CLAHE\n",
    "from tqdm import tqdm  # Import tqdm for progress bar\n",
    "import tkinter as tk\n",
    "from tkinter import filedialog\n",
    "from PIL import Image, ImageTk\n",
    "from io import BytesIO"
   ]
  },
  {
   "cell_type": "code",
   "execution_count": 2,
   "id": "39d648f2-9da4-4527-8f09-f3faaa69ab3b",
   "metadata": {},
   "outputs": [],
   "source": [
    "# Path to your dataset directories\n",
    "data_dir = r\"C:\\Users\\sofea\\OneDrive\\Documents\\DataSetStorage566\\data\"\n",
    "train_dir = f\"{data_dir}/training\"\n",
    "test_dir = f\"{data_dir}/testing\"\n",
    "\n",
    "output_base = r\"C:\\Users\\sofea\\OneDrive\\Documents\\DataSetStorage566\\preprocessed_dataset\"\n",
    "os.makedirs(output_base, exist_ok=True)\n",
    "\n"
   ]
  },
  {
   "cell_type": "code",
   "execution_count": 5,
   "id": "7c51f927-79a3-4486-9a57-4e39ebd3a1ef",
   "metadata": {},
   "outputs": [
    {
     "name": "stderr",
     "output_type": "stream",
     "text": [
      "Processing anthracnose: 100%|███████████████████████████████████████████████████████| 350/350 [00:03<00:00, 110.76it/s]\n",
      "Processing powdery mildew: 100%|████████████████████████████████████████████████████| 350/350 [00:03<00:00, 110.31it/s]\n",
      "Processing sooty mould: 100%|███████████████████████████████████████████████████████| 350/350 [00:03<00:00, 101.79it/s]\n",
      "Processing anthracnose: 100%|████████████████████████████████████████████████████████| 150/150 [00:01<00:00, 97.87it/s]\n",
      "Processing powdery mildew: 100%|█████████████████████████████████████████████████████| 150/150 [00:01<00:00, 99.56it/s]\n",
      "Processing sooty mould: 100%|███████████████████████████████████████████████████████| 150/150 [00:01<00:00, 100.33it/s]"
     ]
    },
    {
     "name": "stdout",
     "output_type": "stream",
     "text": [
      "Preprocessing complete. Images saved!\n"
     ]
    },
    {
     "name": "stderr",
     "output_type": "stream",
     "text": [
      "\n"
     ]
    }
   ],
   "source": [
    "def clahe_preprocess(img_path):\n",
    "    img = load_img(img_path)  # Load image\n",
    "    img = img_to_array(img).astype(np.uint8)  # Convert to array\n",
    "    \n",
    "    # Convert to LAB and apply CLAHE\n",
    "    lab = cv2.cvtColor(img, cv2.COLOR_RGB2LAB)\n",
    "    l, a, b = cv2.split(lab)\n",
    "    clahe = cv2.createCLAHE(clipLimit=2.0, tileGridSize=(8, 8))\n",
    "    l = clahe.apply(l)\n",
    "    lab = cv2.merge([l, a, b])\n",
    "    img = cv2.cvtColor(lab, cv2.COLOR_LAB2RGB)\n",
    "    \n",
    "    return img\n",
    "\n",
    "# Function to preprocess and save images\n",
    "def preprocess_and_save(input_dir, output_dir):\n",
    "    os.makedirs(output_dir, exist_ok=True)\n",
    "    \n",
    "    for class_name in os.listdir(input_dir):\n",
    "        class_input_dir = os.path.join(input_dir, class_name)\n",
    "        class_output_dir = os.path.join(output_dir, class_name)\n",
    "        os.makedirs(class_output_dir, exist_ok=True)\n",
    "        \n",
    "        for img_name in tqdm(os.listdir(class_input_dir), desc=f\"Processing {class_name}\"):\n",
    "            img_path = os.path.join(class_input_dir, img_name)\n",
    "            img_processed = clahe_preprocess(img_path)\n",
    "            save_path = os.path.join(class_output_dir, img_name)\n",
    "            cv2.imwrite(save_path, cv2.cvtColor(img_processed, cv2.COLOR_RGB2BGR))  # Save image\n",
    "\n",
    "# Run preprocessing\n",
    "preprocess_and_save(train_dir, os.path.join(output_base, \"training\"))\n",
    "preprocess_and_save(test_dir, os.path.join(output_base, \"testing\"))\n",
    "\n",
    "print(\"Preprocessing complete. Images saved!\")"
   ]
  },
  {
   "cell_type": "code",
   "execution_count": 13,
   "id": "fe246557-b895-4fe2-8d7c-143a6696135f",
   "metadata": {},
   "outputs": [
    {
     "name": "stdout",
     "output_type": "stream",
     "text": [
      "Found 840 images belonging to 3 classes.\n"
     ]
    }
   ],
   "source": [
    "# Use preprocessed dataset path\n",
    "preprocessed_data_dir = r\"C:\\Users\\sofea\\OneDrive\\Documents\\DataSetStorage566\\preprocessed_dataset\"\n",
    "\n",
    "train_dir = os.path.join(preprocessed_data_dir, \"training\")\n",
    "test_dir = os.path.join(preprocessed_data_dir, \"testing\")\n",
    "\n",
    "# Update ImageDataGenerator (Remove CLAHE)\n",
    "train_datagen = ImageDataGenerator(\n",
    "    rescale=1./255,\n",
    "    shear_range=0.2,\n",
    "    zoom_range=0.2,\n",
    "    height_shift_range=0.2,\n",
    "    width_shift_range=0.2,\n",
    "    rotation_range=40,\n",
    "    horizontal_flip=True,\n",
    "    vertical_flip=True,\n",
    "    validation_split=0.2  # Add validation split\n",
    ")\n",
    "\n",
    "train_generator = train_datagen.flow_from_directory(\n",
    "    train_dir,\n",
    "    target_size=(128, 128),\n",
    "    batch_size=32,\n",
    "    class_mode='categorical',\n",
    "    shuffle=True,\n",
    "    subset='training'  # Use the training subset\n",
    ")\n"
   ]
  },
  {
   "cell_type": "code",
   "execution_count": 14,
   "id": "041a1d7e-14f7-4a64-916c-46bc142d79d5",
   "metadata": {},
   "outputs": [
    {
     "name": "stdout",
     "output_type": "stream",
     "text": [
      "Found 210 images belonging to 3 classes.\n"
     ]
    }
   ],
   "source": [
    "# Validation data generator\n",
    "validation_generator = train_datagen.flow_from_directory(\n",
    "    train_dir, \n",
    "    target_size=(128, 128), \n",
    "    batch_size=32,\n",
    "    class_mode='categorical',\n",
    "    shuffle=True,\n",
    "    subset='validation'  # Use the validation subset\n",
    ")"
   ]
  },
  {
   "cell_type": "code",
   "execution_count": 15,
   "id": "5cb13f15-8466-4195-880b-a007f33e3d33",
   "metadata": {},
   "outputs": [
    {
     "name": "stdout",
     "output_type": "stream",
     "text": [
      "Found 450 images belonging to 3 classes.\n"
     ]
    }
   ],
   "source": [
    "test_datagen = ImageDataGenerator(rescale=1./255)\n",
    "\n",
    "test_generator = test_datagen.flow_from_directory(\n",
    "    test_dir, \n",
    "    target_size=(128, 128), \n",
    "    batch_size=32,\n",
    "    class_mode='categorical',\n",
    "    shuffle=False\n",
    ")"
   ]
  },
  {
   "cell_type": "code",
   "execution_count": 16,
   "id": "ee11a0c5-67bf-46da-a5c0-b161a130fe31",
   "metadata": {},
   "outputs": [],
   "source": [
    "num_classes = 3"
   ]
  },
  {
   "cell_type": "code",
   "execution_count": 17,
   "id": "2785c2ba-a3e9-42ee-b1d6-c85690646c1d",
   "metadata": {},
   "outputs": [],
   "source": [
    "# Initialize the CNN model\n",
    "cnn = models.Sequential()\n",
    "\n",
    "cnn.add(layers.Conv2D(32, (3, 3), activation='relu', input_shape=(128, 128, 3)))\n",
    "cnn.add(layers.MaxPooling2D((2, 2)))\n",
    "\n",
    "cnn.add(layers.Conv2D(64, (3, 3), activation='relu'))\n",
    "cnn.add(layers.MaxPooling2D((2, 2)))\n",
    "\n",
    "cnn.add(layers.Conv2D(128, (3, 3), activation='relu'))\n",
    "cnn.add(layers.MaxPooling2D((2, 2)))\n",
    "\n",
    "cnn.add(layers.Flatten())\n",
    "\n",
    "cnn.add(layers.Dense(128, activation='relu'))\n",
    "cnn.add(layers.Dense(num_classes, activation='softmax'))\n",
    "\n",
    "cnn.compile(optimizer='adam', loss='categorical_crossentropy', metrics=['accuracy'])"
   ]
  },
  {
   "cell_type": "code",
   "execution_count": 18,
   "id": "5741d302-a844-49fc-abeb-2c80ac2acca4",
   "metadata": {},
   "outputs": [],
   "source": [
    "# Define where to save the best model\n",
    "checkpoint_filepath = 'best_model.keras'\n",
    "\n",
    "# Early stopping to prevent overfitting\n",
    "early_stopping = EarlyStopping(monitor='val_loss', patience=5, restore_best_weights=True)\n",
    "\n",
    "# ModelCheckpoint to save the best model\n",
    "model_checkpoint = ModelCheckpoint(\n",
    "    filepath=checkpoint_filepath,\n",
    "    monitor='val_loss',\n",
    "    save_best_only=True,  # Saves only the model with lowest val_loss\n",
    "    mode='min',\n",
    "    verbose=1\n",
    ")\n",
    "\n",
    "# ReduceLROnPlateau callback to adjust learning rate if validation loss plateaus\n",
    "lr_scheduler = ReduceLROnPlateau(factor=0.3, patience=5)\n"
   ]
  },
  {
   "cell_type": "code",
   "execution_count": 19,
   "id": "c1a35dd6-c878-4b17-bde0-e802377f482e",
   "metadata": {},
   "outputs": [
    {
     "name": "stdout",
     "output_type": "stream",
     "text": [
      "Epoch 1/25\n",
      "\u001b[1m27/27\u001b[0m \u001b[32m━━━━━━━━━━━━━━━━━━━━\u001b[0m\u001b[37m\u001b[0m \u001b[1m0s\u001b[0m 836ms/step - accuracy: 0.3381 - loss: 1.3462\n",
      "Epoch 1: val_loss improved from inf to 1.07641, saving model to best_model.keras\n",
      "\u001b[1m27/27\u001b[0m \u001b[32m━━━━━━━━━━━━━━━━━━━━\u001b[0m\u001b[37m\u001b[0m \u001b[1m31s\u001b[0m 1s/step - accuracy: 0.3383 - loss: 1.3402 - val_accuracy: 0.4619 - val_loss: 1.0764 - learning_rate: 0.0010\n",
      "Epoch 2/25\n",
      "\u001b[1m27/27\u001b[0m \u001b[32m━━━━━━━━━━━━━━━━━━━━\u001b[0m\u001b[37m\u001b[0m \u001b[1m0s\u001b[0m 503ms/step - accuracy: 0.5097 - loss: 1.0031\n",
      "Epoch 2: val_loss improved from 1.07641 to 0.95083, saving model to best_model.keras\n",
      "\u001b[1m27/27\u001b[0m \u001b[32m━━━━━━━━━━━━━━━━━━━━\u001b[0m\u001b[37m\u001b[0m \u001b[1m16s\u001b[0m 594ms/step - accuracy: 0.5103 - loss: 1.0015 - val_accuracy: 0.4000 - val_loss: 0.9508 - learning_rate: 0.0010\n",
      "Epoch 3/25\n",
      "\u001b[1m27/27\u001b[0m \u001b[32m━━━━━━━━━━━━━━━━━━━━\u001b[0m\u001b[37m\u001b[0m \u001b[1m0s\u001b[0m 460ms/step - accuracy: 0.6083 - loss: 0.7801\n",
      "Epoch 3: val_loss improved from 0.95083 to 0.93608, saving model to best_model.keras\n",
      "\u001b[1m27/27\u001b[0m \u001b[32m━━━━━━━━━━━━━━━━━━━━\u001b[0m\u001b[37m\u001b[0m \u001b[1m19s\u001b[0m 551ms/step - accuracy: 0.6083 - loss: 0.7797 - val_accuracy: 0.5190 - val_loss: 0.9361 - learning_rate: 0.0010\n",
      "Epoch 4/25\n",
      "\u001b[1m27/27\u001b[0m \u001b[32m━━━━━━━━━━━━━━━━━━━━\u001b[0m\u001b[37m\u001b[0m \u001b[1m0s\u001b[0m 494ms/step - accuracy: 0.7040 - loss: 0.6296\n",
      "Epoch 4: val_loss improved from 0.93608 to 0.36494, saving model to best_model.keras\n",
      "\u001b[1m27/27\u001b[0m \u001b[32m━━━━━━━━━━━━━━━━━━━━\u001b[0m\u001b[37m\u001b[0m \u001b[1m16s\u001b[0m 585ms/step - accuracy: 0.7053 - loss: 0.6271 - val_accuracy: 0.8857 - val_loss: 0.3649 - learning_rate: 0.0010\n",
      "Epoch 5/25\n",
      "\u001b[1m27/27\u001b[0m \u001b[32m━━━━━━━━━━━━━━━━━━━━\u001b[0m\u001b[37m\u001b[0m \u001b[1m0s\u001b[0m 476ms/step - accuracy: 0.7223 - loss: 0.5599\n",
      "Epoch 5: val_loss improved from 0.36494 to 0.35273, saving model to best_model.keras\n",
      "\u001b[1m27/27\u001b[0m \u001b[32m━━━━━━━━━━━━━━━━━━━━\u001b[0m\u001b[37m\u001b[0m \u001b[1m15s\u001b[0m 567ms/step - accuracy: 0.7229 - loss: 0.5587 - val_accuracy: 0.8952 - val_loss: 0.3527 - learning_rate: 0.0010\n",
      "Epoch 6/25\n",
      "\u001b[1m27/27\u001b[0m \u001b[32m━━━━━━━━━━━━━━━━━━━━\u001b[0m\u001b[37m\u001b[0m \u001b[1m0s\u001b[0m 469ms/step - accuracy: 0.8295 - loss: 0.3508\n",
      "Epoch 6: val_loss improved from 0.35273 to 0.16713, saving model to best_model.keras\n",
      "\u001b[1m27/27\u001b[0m \u001b[32m━━━━━━━━━━━━━━━━━━━━\u001b[0m\u001b[37m\u001b[0m \u001b[1m15s\u001b[0m 560ms/step - accuracy: 0.8300 - loss: 0.3499 - val_accuracy: 0.9571 - val_loss: 0.1671 - learning_rate: 0.0010\n",
      "Epoch 7/25\n",
      "\u001b[1m27/27\u001b[0m \u001b[32m━━━━━━━━━━━━━━━━━━━━\u001b[0m\u001b[37m\u001b[0m \u001b[1m0s\u001b[0m 491ms/step - accuracy: 0.8645 - loss: 0.3253\n",
      "Epoch 7: val_loss did not improve from 0.16713\n",
      "\u001b[1m27/27\u001b[0m \u001b[32m━━━━━━━━━━━━━━━━━━━━\u001b[0m\u001b[37m\u001b[0m \u001b[1m15s\u001b[0m 569ms/step - accuracy: 0.8644 - loss: 0.3248 - val_accuracy: 0.8762 - val_loss: 0.2824 - learning_rate: 0.0010\n",
      "Epoch 8/25\n",
      "\u001b[1m27/27\u001b[0m \u001b[32m━━━━━━━━━━━━━━━━━━━━\u001b[0m\u001b[37m\u001b[0m \u001b[1m0s\u001b[0m 474ms/step - accuracy: 0.8155 - loss: 0.3649\n",
      "Epoch 8: val_loss improved from 0.16713 to 0.16288, saving model to best_model.keras\n",
      "\u001b[1m27/27\u001b[0m \u001b[32m━━━━━━━━━━━━━━━━━━━━\u001b[0m\u001b[37m\u001b[0m \u001b[1m15s\u001b[0m 565ms/step - accuracy: 0.8166 - loss: 0.3640 - val_accuracy: 0.9714 - val_loss: 0.1629 - learning_rate: 0.0010\n",
      "Epoch 9/25\n",
      "\u001b[1m27/27\u001b[0m \u001b[32m━━━━━━━━━━━━━━━━━━━━\u001b[0m\u001b[37m\u001b[0m \u001b[1m0s\u001b[0m 504ms/step - accuracy: 0.8811 - loss: 0.2584\n",
      "Epoch 9: val_loss did not improve from 0.16288\n",
      "\u001b[1m27/27\u001b[0m \u001b[32m━━━━━━━━━━━━━━━━━━━━\u001b[0m\u001b[37m\u001b[0m \u001b[1m16s\u001b[0m 581ms/step - accuracy: 0.8802 - loss: 0.2598 - val_accuracy: 0.7952 - val_loss: 0.3462 - learning_rate: 0.0010\n",
      "Epoch 10/25\n",
      "\u001b[1m27/27\u001b[0m \u001b[32m━━━━━━━━━━━━━━━━━━━━\u001b[0m\u001b[37m\u001b[0m \u001b[1m0s\u001b[0m 502ms/step - accuracy: 0.8468 - loss: 0.2974\n",
      "Epoch 10: val_loss improved from 0.16288 to 0.10255, saving model to best_model.keras\n",
      "\u001b[1m27/27\u001b[0m \u001b[32m━━━━━━━━━━━━━━━━━━━━\u001b[0m\u001b[37m\u001b[0m \u001b[1m16s\u001b[0m 600ms/step - accuracy: 0.8479 - loss: 0.2962 - val_accuracy: 0.9714 - val_loss: 0.1025 - learning_rate: 0.0010\n",
      "Epoch 11/25\n",
      "\u001b[1m27/27\u001b[0m \u001b[32m━━━━━━━━━━━━━━━━━━━━\u001b[0m\u001b[37m\u001b[0m \u001b[1m0s\u001b[0m 510ms/step - accuracy: 0.8290 - loss: 0.3327\n",
      "Epoch 11: val_loss did not improve from 0.10255\n",
      "\u001b[1m27/27\u001b[0m \u001b[32m━━━━━━━━━━━━━━━━━━━━\u001b[0m\u001b[37m\u001b[0m \u001b[1m16s\u001b[0m 588ms/step - accuracy: 0.8290 - loss: 0.3328 - val_accuracy: 0.7571 - val_loss: 0.4841 - learning_rate: 0.0010\n",
      "Epoch 12/25\n",
      "\u001b[1m27/27\u001b[0m \u001b[32m━━━━━━━━━━━━━━━━━━━━\u001b[0m\u001b[37m\u001b[0m \u001b[1m0s\u001b[0m 474ms/step - accuracy: 0.8725 - loss: 0.3015\n",
      "Epoch 12: val_loss did not improve from 0.10255\n",
      "\u001b[1m27/27\u001b[0m \u001b[32m━━━━━━━━━━━━━━━━━━━━\u001b[0m\u001b[37m\u001b[0m \u001b[1m15s\u001b[0m 552ms/step - accuracy: 0.8730 - loss: 0.3003 - val_accuracy: 0.9238 - val_loss: 0.2123 - learning_rate: 0.0010\n",
      "Epoch 13/25\n",
      "\u001b[1m27/27\u001b[0m \u001b[32m━━━━━━━━━━━━━━━━━━━━\u001b[0m\u001b[37m\u001b[0m \u001b[1m0s\u001b[0m 481ms/step - accuracy: 0.8856 - loss: 0.2432\n",
      "Epoch 13: val_loss did not improve from 0.10255\n",
      "\u001b[1m27/27\u001b[0m \u001b[32m━━━━━━━━━━━━━━━━━━━━\u001b[0m\u001b[37m\u001b[0m \u001b[1m15s\u001b[0m 560ms/step - accuracy: 0.8857 - loss: 0.2432 - val_accuracy: 0.9524 - val_loss: 0.1496 - learning_rate: 0.0010\n",
      "Epoch 14/25\n",
      "\u001b[1m27/27\u001b[0m \u001b[32m━━━━━━━━━━━━━━━━━━━━\u001b[0m\u001b[37m\u001b[0m \u001b[1m0s\u001b[0m 499ms/step - accuracy: 0.9101 - loss: 0.2034\n",
      "Epoch 14: val_loss improved from 0.10255 to 0.09902, saving model to best_model.keras\n",
      "\u001b[1m27/27\u001b[0m \u001b[32m━━━━━━━━━━━━━━━━━━━━\u001b[0m\u001b[37m\u001b[0m \u001b[1m16s\u001b[0m 592ms/step - accuracy: 0.9100 - loss: 0.2036 - val_accuracy: 0.9762 - val_loss: 0.0990 - learning_rate: 0.0010\n",
      "Epoch 15/25\n",
      "\u001b[1m27/27\u001b[0m \u001b[32m━━━━━━━━━━━━━━━━━━━━\u001b[0m\u001b[37m\u001b[0m \u001b[1m0s\u001b[0m 513ms/step - accuracy: 0.9012 - loss: 0.2092\n",
      "Epoch 15: val_loss improved from 0.09902 to 0.08375, saving model to best_model.keras\n",
      "\u001b[1m27/27\u001b[0m \u001b[32m━━━━━━━━━━━━━━━━━━━━\u001b[0m\u001b[37m\u001b[0m \u001b[1m16s\u001b[0m 604ms/step - accuracy: 0.9017 - loss: 0.2082 - val_accuracy: 0.9667 - val_loss: 0.0838 - learning_rate: 0.0010\n",
      "Epoch 16/25\n",
      "\u001b[1m27/27\u001b[0m \u001b[32m━━━━━━━━━━━━━━━━━━━━\u001b[0m\u001b[37m\u001b[0m \u001b[1m0s\u001b[0m 515ms/step - accuracy: 0.9149 - loss: 0.1979\n",
      "Epoch 16: val_loss did not improve from 0.08375\n",
      "\u001b[1m27/27\u001b[0m \u001b[32m━━━━━━━━━━━━━━━━━━━━\u001b[0m\u001b[37m\u001b[0m \u001b[1m16s\u001b[0m 596ms/step - accuracy: 0.9151 - loss: 0.1974 - val_accuracy: 0.9762 - val_loss: 0.0855 - learning_rate: 0.0010\n",
      "Epoch 17/25\n",
      "\u001b[1m27/27\u001b[0m \u001b[32m━━━━━━━━━━━━━━━━━━━━\u001b[0m\u001b[37m\u001b[0m \u001b[1m0s\u001b[0m 501ms/step - accuracy: 0.8819 - loss: 0.2503\n",
      "Epoch 17: val_loss did not improve from 0.08375\n",
      "\u001b[1m27/27\u001b[0m \u001b[32m━━━━━━━━━━━━━━━━━━━━\u001b[0m\u001b[37m\u001b[0m \u001b[1m16s\u001b[0m 579ms/step - accuracy: 0.8819 - loss: 0.2509 - val_accuracy: 0.9571 - val_loss: 0.1690 - learning_rate: 0.0010\n",
      "Epoch 18/25\n",
      "\u001b[1m27/27\u001b[0m \u001b[32m━━━━━━━━━━━━━━━━━━━━\u001b[0m\u001b[37m\u001b[0m \u001b[1m0s\u001b[0m 452ms/step - accuracy: 0.8773 - loss: 0.2607\n",
      "Epoch 18: val_loss did not improve from 0.08375\n",
      "\u001b[1m27/27\u001b[0m \u001b[32m━━━━━━━━━━━━━━━━━━━━\u001b[0m\u001b[37m\u001b[0m \u001b[1m14s\u001b[0m 529ms/step - accuracy: 0.8782 - loss: 0.2593 - val_accuracy: 0.9143 - val_loss: 0.1941 - learning_rate: 0.0010\n",
      "Epoch 19/25\n",
      "\u001b[1m27/27\u001b[0m \u001b[32m━━━━━━━━━━━━━━━━━━━━\u001b[0m\u001b[37m\u001b[0m \u001b[1m0s\u001b[0m 499ms/step - accuracy: 0.8715 - loss: 0.2824\n",
      "Epoch 19: val_loss did not improve from 0.08375\n",
      "\u001b[1m27/27\u001b[0m \u001b[32m━━━━━━━━━━━━━━━━━━━━\u001b[0m\u001b[37m\u001b[0m \u001b[1m16s\u001b[0m 577ms/step - accuracy: 0.8711 - loss: 0.2833 - val_accuracy: 0.9619 - val_loss: 0.1245 - learning_rate: 0.0010\n",
      "Epoch 20/25\n",
      "\u001b[1m27/27\u001b[0m \u001b[32m━━━━━━━━━━━━━━━━━━━━\u001b[0m\u001b[37m\u001b[0m \u001b[1m0s\u001b[0m 503ms/step - accuracy: 0.8838 - loss: 0.2669\n",
      "Epoch 20: val_loss did not improve from 0.08375\n",
      "\u001b[1m27/27\u001b[0m \u001b[32m━━━━━━━━━━━━━━━━━━━━\u001b[0m\u001b[37m\u001b[0m \u001b[1m16s\u001b[0m 583ms/step - accuracy: 0.8828 - loss: 0.2689 - val_accuracy: 0.8476 - val_loss: 0.3458 - learning_rate: 0.0010\n"
     ]
    }
   ],
   "source": [
    "# Train the model\n",
    "history = cnn.fit(\n",
    "    train_generator,\n",
    "    validation_data=validation_generator,\n",
    "    epochs=25,\n",
    "    callbacks=[early_stopping, model_checkpoint, lr_scheduler]\n",
    ")"
   ]
  },
  {
   "cell_type": "code",
   "execution_count": 21,
   "id": "809d4dd2-b74e-4db8-bf09-94054c75b866",
   "metadata": {},
   "outputs": [
    {
     "name": "stdout",
     "output_type": "stream",
     "text": [
      "\u001b[1m15/15\u001b[0m \u001b[32m━━━━━━━━━━━━━━━━━━━━\u001b[0m\u001b[37m\u001b[0m \u001b[1m8s\u001b[0m 531ms/step - accuracy: 0.9308 - loss: 0.2095\n",
      "Test Loss (Best Model): 0.42\n",
      "Test Accuracy (Best Model): 0.87\n",
      "\u001b[1m15/15\u001b[0m \u001b[32m━━━━━━━━━━━━━━━━━━━━\u001b[0m\u001b[37m\u001b[0m \u001b[1m3s\u001b[0m 145ms/step\n",
      "Number of test samples: 15\n",
      "Class distribution in test set: Counter({np.int32(0): 150, np.int32(1): 150, np.int32(2): 150})\n"
     ]
    }
   ],
   "source": [
    "from keras.models import load_model\n",
    "\n",
    "# Load the best saved model\n",
    "best_model = load_model(checkpoint_filepath)\n",
    "\n",
    "# Evaluate on the test set\n",
    "test_loss, test_accuracy = best_model.evaluate(test_generator, verbose=1)\n",
    "\n",
    "# Print test set results\n",
    "print(f\"Test Loss (Best Model): {test_loss:.2f}\")\n",
    "print(f\"Test Accuracy (Best Model): {test_accuracy:.2f}\")\n",
    "\n",
    "# Generate predictions on the test dataset\n",
    "predictions = best_model.predict(test_generator)\n",
    "predicted_classes = np.argmax(predictions, axis=1)\n",
    "\n",
    "# Get true classes and class labels\n",
    "true_classes = test_generator.classes\n",
    "class_labels = list(test_generator.class_indices.keys())\n",
    "\n",
    "# Print the number of test samples and class distribution\n",
    "print(f\"Number of test samples: {len(test_generator)}\")\n",
    "print(\"Class distribution in test set:\", Counter(true_classes))"
   ]
  },
  {
   "cell_type": "code",
   "execution_count": 22,
   "id": "0055b9d1-6e18-4cfc-a9e4-a7b90a4c74c2",
   "metadata": {},
   "outputs": [
    {
     "name": "stdout",
     "output_type": "stream",
     "text": [
      "Manual Accuracy: 0.87\n",
      "Classification Report:\n",
      "                precision    recall  f1-score   support\n",
      "\n",
      "   anthracnose       0.90      1.00      0.95       150\n",
      "powdery mildew       0.93      0.75      0.83       150\n",
      "   sooty mould       0.79      0.85      0.82       150\n",
      "\n",
      "      accuracy                           0.87       450\n",
      "     macro avg       0.87      0.87      0.87       450\n",
      "  weighted avg       0.87      0.87      0.87       450\n",
      "\n"
     ]
    },
    {
     "data": {
      "image/png": "[encoded data removed]",
      "text/plain": [
       "<Figure size 700x500 with 1 Axes>"
      ]
     },
     "metadata": {},
     "output_type": "display_data"
    }
   ],
   "source": [
    "# Calculate manual accuracy\n",
    "manual_accuracy = accuracy_score(true_classes, predicted_classes)\n",
    "print(f\"Manual Accuracy: {manual_accuracy:.2f}\")\n",
    "\n",
    "# Generate and print the classification report\n",
    "report = classification_report(true_classes, predicted_classes, target_names=class_labels)\n",
    "print(\"Classification Report:\")\n",
    "print(report)\n",
    "\n",
    "# Plot Accuracy\n",
    "epochs = range(1, len(history.history['loss']) + 1)\n",
    "\n",
    "plt.figure(figsize=(7, 5))  # Adjust figure size\n",
    "plt.plot(epochs, history.history['accuracy'], 'b-', label='Training Accuracy')  # Blue solid line\n",
    "plt.plot(epochs, history.history['val_accuracy'], 'orange', label='Validation Accuracy')  # Orange solid line\n",
    "plt.axhline(y=test_accuracy, color='red', linestyle='dashed', label='Testing Accuracy')  # Red dashed line\n",
    "plt.xlabel('Epoch')\n",
    "plt.ylabel('Accuracy')\n",
    "plt.title('Model Accuracy')\n",
    "plt.legend()\n",
    "plt.show()"
   ]
  },
  {
   "cell_type": "code",
   "execution_count": 23,
   "id": "2df2e695-6d84-478f-82e4-e6c6db742a4d",
   "metadata": {},
   "outputs": [
    {
     "data": {
      "image/png": "[encoded data removed]",
      "text/plain": [
       "<Figure size 640x480 with 2 Axes>"
      ]
     },
     "metadata": {},
     "output_type": "display_data"
    }
   ],
   "source": [
    "# Confusion Matrix\n",
    "cm = confusion_matrix(true_classes, predicted_classes)\n",
    "disp = ConfusionMatrixDisplay(confusion_matrix=cm, display_labels=class_labels)\n",
    "disp.plot(cmap=plt.cm.Blues, xticks_rotation=45)\n",
    "plt.title(\"Confusion Matrix\")\n",
    "plt.show()\n"
   ]
  },
  {
   "cell_type": "code",
   "execution_count": 25,
   "id": "01e3ff08-6f88-46a8-aad4-cde4690e44e9",
   "metadata": {},
   "outputs": [
    {
     "name": "stdout",
     "output_type": "stream",
     "text": [
      "\u001b[1m1/1\u001b[0m \u001b[32m━━━━━━━━━━━━━━━━━━━━\u001b[0m\u001b[37m\u001b[0m \u001b[1m0s\u001b[0m 90ms/step\n"
     ]
    },
    {
     "data": {
      "image/png": "[encoded data removed]",
      "text/plain": [
       "<Figure size 500x300 with 1 Axes>"
      ]
     },
     "metadata": {},
     "output_type": "display_data"
    }
   ],
   "source": [
    "# Function to classify an uploaded image\n",
    "def classify_image():\n",
    "    # Open file dialog to select an image\n",
    "    file_path = filedialog.askopenfilename(filetypes=[(\"Image Files\", \"*.jpg;*.jpeg;*.png\")])\n",
    "    if not file_path:\n",
    "        print(\"No file selected.\")\n",
    "        return\n",
    "\n",
    "    # Extract actual class (assuming folder structure includes the class name)\n",
    "    actual_class = os.path.basename(os.path.dirname(file_path))  # Folder name is the class label\n",
    "\n",
    "    # Load the selected image\n",
    "    image = load_img(file_path, target_size=(128, 128))\n",
    "    image_array = img_to_array(image)\n",
    "\n",
    "    # Preprocess the image\n",
    "    preprocessed_image = image_array / 255.0  # Normalize pixel values\n",
    "    preprocessed_image_expanded = np.expand_dims(preprocessed_image, axis=0)  # Add batch dimension\n",
    "\n",
    "    # Predict the class\n",
    "    predictions = best_model.predict(preprocessed_image_expanded)\n",
    "    predicted_class_index = np.argmax(predictions)\n",
    "    confidence_scores = predictions.flatten()\n",
    "\n",
    "    # Map predicted index to class label\n",
    "    index_to_label = {v: k for k, v in train_generator.class_indices.items()}\n",
    "    predicted_class_name = index_to_label[predicted_class_index]\n",
    "\n",
    "    # Display the images and results\n",
    "    display_results(image, preprocessed_image, predicted_class_name, actual_class, confidence_scores, index_to_label)\n",
    "\n",
    "def display_results(original, preprocessed, predicted_label, actual_label, confidence_scores, index_to_label):\n",
    "    # Create a new window for displaying results\n",
    "    result_window = tk.Toplevel()\n",
    "    result_window.title(\"Classification Results\")\n",
    "\n",
    "    # Convert images to PIL format for display in Tkinter\n",
    "    original_img = Image.fromarray(np.uint8(original))\n",
    "    preprocessed_img = Image.fromarray((preprocessed * 255).astype('uint8'))\n",
    "\n",
    "    original_img_tk = ImageTk.PhotoImage(original_img.resize((150, 150)))\n",
    "    preprocessed_img_tk = ImageTk.PhotoImage(preprocessed_img.resize((150, 150)))\n",
    "\n",
    "    # Display images in the first row\n",
    "    tk.Label(result_window, text=\"Original Image\").grid(row=0, column=0, padx=10, pady=5)\n",
    "    tk.Label(result_window, text=\"Preprocessed Image\").grid(row=0, column=1, padx=10, pady=5)\n",
    "\n",
    "    tk.Label(result_window, image=original_img_tk).grid(row=1, column=0, padx=10, pady=5)\n",
    "    tk.Label(result_window, image=preprocessed_img_tk).grid(row=1, column=1, padx=10, pady=5)\n",
    "\n",
    "    # Store images in memory to prevent garbage collection\n",
    "    result_window.original_img_tk = original_img_tk\n",
    "    result_window.preprocessed_img_tk = preprocessed_img_tk\n",
    "\n",
    "    # Display predicted and actual labels\n",
    "    tk.Label(result_window, text=f\"Predicted: {predicted_label}\", font=(\"Arial\", 14)).grid(row=2, column=0, columnspan=2, pady=5)\n",
    "    tk.Label(result_window, text=f\"Actual: {actual_label}\", font=(\"Arial\", 14), fg=\"green\").grid(row=3, column=0, columnspan=2, pady=5)\n",
    "\n",
    "    # Create a bar chart for confidence scores\n",
    "    fig, ax = plt.subplots(figsize=(5, 3))\n",
    "    ax.barh(list(index_to_label.values()), confidence_scores, color='blue')\n",
    "    ax.set_xlim(0, 1)\n",
    "    ax.set_title(\"Confidence Scores\")\n",
    "    ax.set_xlabel(\"Confidence\")\n",
    "    ax.set_ylabel(\"Class Labels\")\n",
    "    plt.tight_layout()\n",
    "\n",
    "    # Convert the bar chart to a Tkinter-compatible image\n",
    "    buf = BytesIO()\n",
    "    plt.savefig(buf, format=\"png\")\n",
    "    buf.seek(0)\n",
    "    bar_chart_img = Image.open(buf)\n",
    "    bar_chart_tk = ImageTk.PhotoImage(bar_chart_img)\n",
    "\n",
    "    # Display the bar chart\n",
    "    tk.Label(result_window, image=bar_chart_tk).grid(row=4, column=0, columnspan=2, pady=10)\n",
    "    result_window.bar_chart_tk = bar_chart_tk  # Store chart in memory\n",
    "    buf.close()\n",
    "\n",
    "# GUI for uploading and classifying images\n",
    "root = tk.Tk()\n",
    "root.title(\"Banana Ripeness Classifier\")\n",
    "\n",
    "# Add a button to classify an image\n",
    "upload_btn = tk.Button(root, text=\"Upload Image for Classification\", command=classify_image, font=(\"Arial\", 14), padx=20, pady=10)\n",
    "upload_btn.pack(pady=20)\n",
    "\n",
    "# Run the GUI\n",
    "root.mainloop()"
   ]
  },
  {
   "cell_type": "code",
   "execution_count": null,
   "id": "a78df87a-7328-47fa-94ce-1e60fa830a21",
   "metadata": {},
   "outputs": [],
   "source": []
  },
  {
   "cell_type": "code",
   "execution_count": null,
   "id": "49a35064-990b-479a-89ff-cb908a54e9c1",
   "metadata": {},
   "outputs": [],
   "source": []
  },
  {
   "cell_type": "code",
   "execution_count": null,
   "id": "2b2ca4ba-18fc-4c1d-b660-a49c9b8da42d",
   "metadata": {},
   "outputs": [],
   "source": []
  },
  {
   "cell_type": "code",
   "execution_count": null,
   "id": "732871fa-ee46-4527-b78d-4821826c8f1f",
   "metadata": {},
   "outputs": [],
   "source": []
  },
  {
   "cell_type": "code",
   "execution_count": null,
   "id": "e1e7e0bd-f40c-428b-b8cf-607c8836949a",
   "metadata": {},
   "outputs": [
    {
     "name": "stdout",
     "output_type": "stream",
     "text": [
      "\u001b[1m1/1\u001b[0m \u001b[32m━━━━━━━━━━━━━━━━━━━━\u001b[0m\u001b[37m\u001b[0m \u001b[1m0s\u001b[0m 80ms/step\n"
     ]
    }
   ],
   "source": [
    "import tkinter as tk\n",
    "from tkinter import filedialog\n",
    "from tensorflow.keras.preprocessing.image import load_img, img_to_array\n",
    "import numpy as np\n",
    "import matplotlib.pyplot as plt\n",
    "from PIL import Image, ImageTk\n",
    "import os\n",
    "import cv2  # Import OpenCV for CLAHE\n",
    "\n",
    "# Function to classify an uploaded image\n",
    "def classify_image():\n",
    "    # Open file dialog to select an image\n",
    "    file_path = filedialog.askopenfilename(filetypes=[(\"Image Files\", \"*.jpg;*.jpeg;*.png\")])\n",
    "    if not file_path:\n",
    "        print(\"No file selected.\")\n",
    "        return\n",
    "\n",
    "    # Extract actual class (assuming folder structure includes the class name)\n",
    "    actual_class = os.path.basename(os.path.dirname(file_path))  # Folder name is the class label\n",
    "\n",
    "    # Load the selected image\n",
    "    image = load_img(file_path, target_size=(128, 128))\n",
    "    image_array = img_to_array(image)\n",
    "\n",
    "    # Preprocess the image (Normalize pixel values)\n",
    "    preprocessed_image = image_array / 255.0\n",
    "\n",
    "    # Apply CLAHE preprocessing\n",
    "    clahe_image = clahe_preprocess(image_array)\n",
    "\n",
    "    # Expand dimensions for model prediction\n",
    "    preprocessed_image_expanded = np.expand_dims(preprocessed_image, axis=0)\n",
    "\n",
    "    # Predict the class (Ensure `cnn` and `train_generator.class_indices` are defined)\n",
    "    predictions = cnn.predict(preprocessed_image_expanded)\n",
    "    predicted_class_index = np.argmax(predictions)\n",
    "    confidence_scores = predictions.flatten()\n",
    "\n",
    "    # Map predicted index to class label\n",
    "    index_to_label = {v: k for k, v in train_generator.class_indices.items()}\n",
    "    predicted_class_name = index_to_label[predicted_class_index]\n",
    "\n",
    "    # Display the images and results\n",
    "    display_results(image, preprocessed_image, clahe_image, predicted_class_name, actual_class, confidence_scores, index_to_label)\n",
    "\n",
    "# Function to apply CLAHE preprocessing\n",
    "def clahe_preprocess(image_array):\n",
    "    # Convert to LAB color space\n",
    "    lab = cv2.cvtColor(image_array.astype(np.uint8), cv2.COLOR_RGB2LAB)\n",
    "    l, a, b = cv2.split(lab)\n",
    "\n",
    "    # Apply CLAHE to the L channel\n",
    "    clahe = cv2.createCLAHE(clipLimit=2.0, tileGridSize=(8, 8))\n",
    "    l = clahe.apply(l)\n",
    "\n",
    "    # Merge the channels and convert back to RGB\n",
    "    lab = cv2.merge([l, a, b])\n",
    "    clahe_image = cv2.cvtColor(lab, cv2.COLOR_LAB2RGB)\n",
    "    return clahe_image\n",
    "\n",
    "def display_results(original, preprocessed, clahe_image, predicted_label, actual_label, confidence_scores, index_to_label):\n",
    "    # Create a new window for displaying results\n",
    "    result_window = tk.Toplevel()\n",
    "    result_window.title(\"Classification Results\")\n",
    "\n",
    "    # Convert images to PIL format for display in Tkinter\n",
    "    original_img = Image.fromarray(np.uint8(original))\n",
    "    preprocessed_img = Image.fromarray((preprocessed * 255).astype('uint8'))\n",
    "    clahe_img = Image.fromarray(clahe_image.astype('uint8'))\n",
    "\n",
    "    original_img_tk = ImageTk.PhotoImage(original_img.resize((150, 150)))\n",
    "    preprocessed_img_tk = ImageTk.PhotoImage(preprocessed_img.resize((150, 150)))\n",
    "    clahe_img_tk = ImageTk.PhotoImage(clahe_img.resize((150, 150)))\n",
    "\n",
    "    # Display images in the first row\n",
    "    tk.Label(result_window, text=\"Original Image\").grid(row=0, column=0, padx=10, pady=5)\n",
    "    tk.Label(result_window, text=\"Preprocessed Image\").grid(row=0, column=1, padx=10, pady=5)\n",
    "    tk.Label(result_window, text=\"CLAHE Image\").grid(row=0, column=2, padx=10, pady=5)\n",
    "\n",
    "    tk.Label(result_window, image=original_img_tk).grid(row=1, column=0, padx=10, pady=5)\n",
    "    tk.Label(result_window, image=preprocessed_img_tk).grid(row=1, column=1, padx=10, pady=5)\n",
    "    tk.Label(result_window, image=clahe_img_tk).grid(row=1, column=2, padx=10, pady=5)\n",
    "\n",
    "    # Store images in memory to prevent garbage collection\n",
    "    result_window.original_img_tk = original_img_tk\n",
    "    result_window.preprocessed_img_tk = preprocessed_img_tk\n",
    "    result_window.clahe_img_tk = clahe_img_tk\n",
    "\n",
    "    # Display predicted and actual labels\n",
    "    tk.Label(result_window, text=f\"Predicted: {predicted_label}\", font=(\"Arial\", 14)).grid(row=2, column=0, columnspan=3, pady=5)\n",
    "    tk.Label(result_window, text=f\"Actual: {actual_label}\", font=(\"Arial\", 14), fg=\"green\").grid(row=3, column=0, columnspan=3, pady=5)\n",
    "\n",
    "    # Create a bar chart for confidence scores\n",
    "    fig, ax = plt.subplots(figsize=(5, 3))\n",
    "    ax.barh(list(index_to_label.values()), confidence_scores, color='blue')\n",
    "    ax.set_xlim(0, 1)\n",
    "    ax.set_title(\"Confidence Scores\")\n",
    "    ax.set_xlabel(\"Confidence\")\n",
    "    ax.set_ylabel(\"Class Labels\")\n",
    "    plt.tight_layout()\n",
    "\n",
    "    # Convert the bar chart to a Tkinter-compatible image\n",
    "    from io import BytesIO\n",
    "    buf = BytesIO()\n",
    "    plt.savefig(buf, format=\"png\")\n",
    "    buf.seek(0)\n",
    "    bar_chart_img = Image.open(buf)\n",
    "    bar_chart_tk = ImageTk.PhotoImage(bar_chart_img)\n",
    "\n",
    "    # Display the bar chart\n",
    "    tk.Label(result_window, image=bar_chart_tk).grid(row=4, column=0, columnspan=3, pady=10)\n",
    "    result_window.bar_chart_tk = bar_chart_tk  # Store chart in memory\n",
    "    buf.close()\n",
    "\n",
    "# GUI for uploading and classifying images\n",
    "root = tk.Tk()\n",
    "root.title(\"Mango Leaf Disease Classifier\")\n",
    "\n",
    "# Add a button to classify an image\n",
    "upload_btn = tk.Button(root, text=\"Upload Image for Classification\", command=classify_image, font=(\"Arial\", 14), padx=20, pady=10)\n",
    "upload_btn.pack(pady=20)\n",
    "\n",
    "# Run the GUI\n",
    "root.mainloop()"
   ]
  },
  {
   "cell_type": "code",
   "execution_count": null,
   "id": "d9d94f38-dbfe-4300-80e9-dadba256f151",
   "metadata": {},
   "outputs": [],
   "source": []
  }
 ],
 "metadata": {
  "kernelspec": {
   "display_name": "Python 3 (ipykernel)",
   "language": "python",
   "name": "python3"
  },
  "language_info": {
   "codemirror_mode": {
    "name": "ipython",
    "version": 3
   },
   "file_extension": ".py",
   "mimetype": "text/x-python",
   "name": "python",
   "nbconvert_exporter": "python",
   "pygments_lexer": "ipython3",
   "version": "3.12.4"
  }
 },
 "nbformat": 4,
 "nbformat_minor": 5
}
